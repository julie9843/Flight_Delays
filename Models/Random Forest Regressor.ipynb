{
 "cells": [
  {
   "cell_type": "code",
   "execution_count": 3,
   "metadata": {},
   "outputs": [],
   "source": [
    "from sklearn.ensemble import RandomForestRegressor\n",
    "from sklearn.datasets import make_regression\n",
    "from sklearn.ensemble import RandomForestClassifier\n",
    "import matplotlib.pyplot as plt\n",
    "import numpy as np\n",
    "from sklearn.metrics import mean_squared_error, r2_score\n",
    "import pandas as pd\n",
    "from sklearn.metrics import confusion_matrix\n",
    "from sklearn.model_selection import train_test_split, GridSearchCV, cross_val_score\n",
    "from sklearn import metrics, linear_model\n",
    "from sklearn.tree import DecisionTreeClassifier\n",
    "from sklearn.ensemble import RandomForestClassifier, AdaBoostClassifier\n",
    "from sklearn.ensemble import BaggingClassifier\n",
    "from xgboost import XGBClassifier\n",
    "from sklearn.metrics import accuracy_score\n",
    "from sklearn.ensemble import AdaBoostClassifier, GradientBoostingClassifier\n",
    "from sklearn.metrics import accuracy_score, f1_score, confusion_matrix, classification_report\n",
    "from sklearn.preprocessing import StandardScaler\n",
    "import statsmodels.api as sm\n",
    "import matplotlib.pyplot as plt\n",
    "import seaborn as sns\n",
    "%matplotlib inline\n",
    "\n",
    "from sklearn import svm, datasets\n",
    "from sklearn.metrics import roc_curve, auc\n",
    "from sklearn.model_selection import train_test_split\n",
    "from sklearn.preprocessing import label_binarize\n",
    "from sklearn.multiclass import OneVsRestClassifier\n",
    "from scipy import interp\n",
    "from sklearn.metrics import roc_auc_score"
   ]
  },
  {
   "cell_type": "code",
   "execution_count": 4,
   "metadata": {},
   "outputs": [
    {
     "name": "stdout",
     "output_type": "stream",
     "text": [
      "<class 'pandas.core.frame.DataFrame'>\n",
      "RangeIndex: 97682 entries, 0 to 97681\n",
      "Data columns (total 14 columns):\n",
      " #   Column               Non-Null Count  Dtype  \n",
      "---  ------               --------------  -----  \n",
      " 0   mkt_carrier          97682 non-null  int64  \n",
      " 1   origin               97682 non-null  int64  \n",
      " 2   dest                 97682 non-null  int64  \n",
      " 3   dep_delay            97682 non-null  float64\n",
      " 4   arr_delay            97682 non-null  float64\n",
      " 5   crs_elapsed_time     97682 non-null  int64  \n",
      " 6   actual_elapsed_time  97682 non-null  float64\n",
      " 7   air_time             97682 non-null  float64\n",
      " 8   distance             97682 non-null  int64  \n",
      " 9   month                97682 non-null  int64  \n",
      " 10  weekday              97682 non-null  int64  \n",
      " 11  dep_hour             97682 non-null  int64  \n",
      " 12  time_cat             97682 non-null  int64  \n",
      " 13  avg_delay            97682 non-null  float64\n",
      "dtypes: float64(5), int64(9)\n",
      "memory usage: 10.4 MB\n"
     ]
    }
   ],
   "source": [
    "df = pd.read_csv('flights_final.csv')\n",
    "df = df.drop(['Unnamed: 0'],axis=1)\n",
    "df.info()"
   ]
  },
  {
   "cell_type": "code",
   "execution_count": 5,
   "metadata": {},
   "outputs": [],
   "source": [
    "df1 = pd.read_csv('test_df.csv')"
   ]
  },
  {
   "cell_type": "code",
   "execution_count": 6,
   "metadata": {},
   "outputs": [
    {
     "data": {
      "text/plain": [
       "(150623, 9)"
      ]
     },
     "execution_count": 6,
     "metadata": {},
     "output_type": "execute_result"
    }
   ],
   "source": [
    "df1.shape"
   ]
  },
  {
   "cell_type": "code",
   "execution_count": 7,
   "metadata": {},
   "outputs": [
    {
     "data": {
      "text/html": [
       "<div>\n",
       "<style scoped>\n",
       "    .dataframe tbody tr th:only-of-type {\n",
       "        vertical-align: middle;\n",
       "    }\n",
       "\n",
       "    .dataframe tbody tr th {\n",
       "        vertical-align: top;\n",
       "    }\n",
       "\n",
       "    .dataframe thead th {\n",
       "        text-align: right;\n",
       "    }\n",
       "</style>\n",
       "<table border=\"1\" class=\"dataframe\">\n",
       "  <thead>\n",
       "    <tr style=\"text-align: right;\">\n",
       "      <th></th>\n",
       "      <th>mkt_carrier</th>\n",
       "      <th>origin</th>\n",
       "      <th>dest</th>\n",
       "      <th>dep_delay</th>\n",
       "      <th>arr_delay</th>\n",
       "      <th>crs_elapsed_time</th>\n",
       "      <th>actual_elapsed_time</th>\n",
       "      <th>air_time</th>\n",
       "      <th>distance</th>\n",
       "      <th>month</th>\n",
       "      <th>weekday</th>\n",
       "      <th>dep_hour</th>\n",
       "      <th>time_cat</th>\n",
       "      <th>avg_delay</th>\n",
       "    </tr>\n",
       "  </thead>\n",
       "  <tbody>\n",
       "    <tr>\n",
       "      <th>0</th>\n",
       "      <td>2</td>\n",
       "      <td>74</td>\n",
       "      <td>145</td>\n",
       "      <td>-6.0</td>\n",
       "      <td>-4.0</td>\n",
       "      <td>59</td>\n",
       "      <td>61.0</td>\n",
       "      <td>31.0</td>\n",
       "      <td>83</td>\n",
       "      <td>11</td>\n",
       "      <td>2</td>\n",
       "      <td>16</td>\n",
       "      <td>2</td>\n",
       "      <td>0.363720</td>\n",
       "    </tr>\n",
       "    <tr>\n",
       "      <th>1</th>\n",
       "      <td>2</td>\n",
       "      <td>249</td>\n",
       "      <td>95</td>\n",
       "      <td>40.0</td>\n",
       "      <td>24.0</td>\n",
       "      <td>70</td>\n",
       "      <td>54.0</td>\n",
       "      <td>34.0</td>\n",
       "      <td>175</td>\n",
       "      <td>12</td>\n",
       "      <td>3</td>\n",
       "      <td>17</td>\n",
       "      <td>3</td>\n",
       "      <td>50.452426</td>\n",
       "    </tr>\n",
       "    <tr>\n",
       "      <th>2</th>\n",
       "      <td>7</td>\n",
       "      <td>349</td>\n",
       "      <td>316</td>\n",
       "      <td>-6.0</td>\n",
       "      <td>0.0</td>\n",
       "      <td>120</td>\n",
       "      <td>126.0</td>\n",
       "      <td>100.0</td>\n",
       "      <td>727</td>\n",
       "      <td>10</td>\n",
       "      <td>3</td>\n",
       "      <td>9</td>\n",
       "      <td>2</td>\n",
       "      <td>0.363720</td>\n",
       "    </tr>\n",
       "    <tr>\n",
       "      <th>3</th>\n",
       "      <td>3</td>\n",
       "      <td>22</td>\n",
       "      <td>363</td>\n",
       "      <td>19.0</td>\n",
       "      <td>31.0</td>\n",
       "      <td>71</td>\n",
       "      <td>83.0</td>\n",
       "      <td>43.0</td>\n",
       "      <td>250</td>\n",
       "      <td>6</td>\n",
       "      <td>0</td>\n",
       "      <td>14</td>\n",
       "      <td>3</td>\n",
       "      <td>50.452426</td>\n",
       "    </tr>\n",
       "    <tr>\n",
       "      <th>4</th>\n",
       "      <td>6</td>\n",
       "      <td>118</td>\n",
       "      <td>127</td>\n",
       "      <td>19.0</td>\n",
       "      <td>-10.0</td>\n",
       "      <td>186</td>\n",
       "      <td>157.0</td>\n",
       "      <td>137.0</td>\n",
       "      <td>1065</td>\n",
       "      <td>11</td>\n",
       "      <td>2</td>\n",
       "      <td>17</td>\n",
       "      <td>1</td>\n",
       "      <td>-10.006351</td>\n",
       "    </tr>\n",
       "  </tbody>\n",
       "</table>\n",
       "</div>"
      ],
      "text/plain": [
       "   mkt_carrier  origin  dest  dep_delay  arr_delay  crs_elapsed_time  \\\n",
       "0            2      74   145       -6.0       -4.0                59   \n",
       "1            2     249    95       40.0       24.0                70   \n",
       "2            7     349   316       -6.0        0.0               120   \n",
       "3            3      22   363       19.0       31.0                71   \n",
       "4            6     118   127       19.0      -10.0               186   \n",
       "\n",
       "   actual_elapsed_time  air_time  distance  month  weekday  dep_hour  \\\n",
       "0                 61.0      31.0        83     11        2        16   \n",
       "1                 54.0      34.0       175     12        3        17   \n",
       "2                126.0     100.0       727     10        3         9   \n",
       "3                 83.0      43.0       250      6        0        14   \n",
       "4                157.0     137.0      1065     11        2        17   \n",
       "\n",
       "   time_cat  avg_delay  \n",
       "0         2   0.363720  \n",
       "1         3  50.452426  \n",
       "2         2   0.363720  \n",
       "3         3  50.452426  \n",
       "4         1 -10.006351  "
      ]
     },
     "execution_count": 7,
     "metadata": {},
     "output_type": "execute_result"
    }
   ],
   "source": [
    "df.head()"
   ]
  },
  {
   "cell_type": "code",
   "execution_count": 8,
   "metadata": {},
   "outputs": [],
   "source": [
    "X = df.drop(['time_cat','arr_delay','dep_delay','actual_elapsed_time','avg_delay'],axis=1)\n",
    "y = df['arr_delay']"
   ]
  },
  {
   "cell_type": "code",
   "execution_count": 9,
   "metadata": {},
   "outputs": [
    {
     "data": {
      "text/html": [
       "<div>\n",
       "<style scoped>\n",
       "    .dataframe tbody tr th:only-of-type {\n",
       "        vertical-align: middle;\n",
       "    }\n",
       "\n",
       "    .dataframe tbody tr th {\n",
       "        vertical-align: top;\n",
       "    }\n",
       "\n",
       "    .dataframe thead th {\n",
       "        text-align: right;\n",
       "    }\n",
       "</style>\n",
       "<table border=\"1\" class=\"dataframe\">\n",
       "  <thead>\n",
       "    <tr style=\"text-align: right;\">\n",
       "      <th></th>\n",
       "      <th>mkt_carrier</th>\n",
       "      <th>origin</th>\n",
       "      <th>dest</th>\n",
       "      <th>crs_elapsed_time</th>\n",
       "      <th>air_time</th>\n",
       "      <th>distance</th>\n",
       "      <th>month</th>\n",
       "      <th>weekday</th>\n",
       "      <th>dep_hour</th>\n",
       "    </tr>\n",
       "  </thead>\n",
       "  <tbody>\n",
       "    <tr>\n",
       "      <th>0</th>\n",
       "      <td>2</td>\n",
       "      <td>74</td>\n",
       "      <td>145</td>\n",
       "      <td>59</td>\n",
       "      <td>31.0</td>\n",
       "      <td>83</td>\n",
       "      <td>11</td>\n",
       "      <td>2</td>\n",
       "      <td>16</td>\n",
       "    </tr>\n",
       "    <tr>\n",
       "      <th>1</th>\n",
       "      <td>2</td>\n",
       "      <td>249</td>\n",
       "      <td>95</td>\n",
       "      <td>70</td>\n",
       "      <td>34.0</td>\n",
       "      <td>175</td>\n",
       "      <td>12</td>\n",
       "      <td>3</td>\n",
       "      <td>17</td>\n",
       "    </tr>\n",
       "    <tr>\n",
       "      <th>2</th>\n",
       "      <td>7</td>\n",
       "      <td>349</td>\n",
       "      <td>316</td>\n",
       "      <td>120</td>\n",
       "      <td>100.0</td>\n",
       "      <td>727</td>\n",
       "      <td>10</td>\n",
       "      <td>3</td>\n",
       "      <td>9</td>\n",
       "    </tr>\n",
       "    <tr>\n",
       "      <th>3</th>\n",
       "      <td>3</td>\n",
       "      <td>22</td>\n",
       "      <td>363</td>\n",
       "      <td>71</td>\n",
       "      <td>43.0</td>\n",
       "      <td>250</td>\n",
       "      <td>6</td>\n",
       "      <td>0</td>\n",
       "      <td>14</td>\n",
       "    </tr>\n",
       "    <tr>\n",
       "      <th>4</th>\n",
       "      <td>6</td>\n",
       "      <td>118</td>\n",
       "      <td>127</td>\n",
       "      <td>186</td>\n",
       "      <td>137.0</td>\n",
       "      <td>1065</td>\n",
       "      <td>11</td>\n",
       "      <td>2</td>\n",
       "      <td>17</td>\n",
       "    </tr>\n",
       "    <tr>\n",
       "      <th>...</th>\n",
       "      <td>...</td>\n",
       "      <td>...</td>\n",
       "      <td>...</td>\n",
       "      <td>...</td>\n",
       "      <td>...</td>\n",
       "      <td>...</td>\n",
       "      <td>...</td>\n",
       "      <td>...</td>\n",
       "      <td>...</td>\n",
       "    </tr>\n",
       "    <tr>\n",
       "      <th>97677</th>\n",
       "      <td>8</td>\n",
       "      <td>191</td>\n",
       "      <td>166</td>\n",
       "      <td>177</td>\n",
       "      <td>131.0</td>\n",
       "      <td>1222</td>\n",
       "      <td>12</td>\n",
       "      <td>6</td>\n",
       "      <td>18</td>\n",
       "    </tr>\n",
       "    <tr>\n",
       "      <th>97678</th>\n",
       "      <td>2</td>\n",
       "      <td>293</td>\n",
       "      <td>253</td>\n",
       "      <td>141</td>\n",
       "      <td>99.0</td>\n",
       "      <td>646</td>\n",
       "      <td>6</td>\n",
       "      <td>5</td>\n",
       "      <td>15</td>\n",
       "    </tr>\n",
       "    <tr>\n",
       "      <th>97679</th>\n",
       "      <td>3</td>\n",
       "      <td>146</td>\n",
       "      <td>328</td>\n",
       "      <td>105</td>\n",
       "      <td>84.0</td>\n",
       "      <td>463</td>\n",
       "      <td>12</td>\n",
       "      <td>0</td>\n",
       "      <td>17</td>\n",
       "    </tr>\n",
       "    <tr>\n",
       "      <th>97680</th>\n",
       "      <td>7</td>\n",
       "      <td>268</td>\n",
       "      <td>217</td>\n",
       "      <td>195</td>\n",
       "      <td>170.0</td>\n",
       "      <td>1444</td>\n",
       "      <td>3</td>\n",
       "      <td>0</td>\n",
       "      <td>14</td>\n",
       "    </tr>\n",
       "    <tr>\n",
       "      <th>97681</th>\n",
       "      <td>8</td>\n",
       "      <td>215</td>\n",
       "      <td>190</td>\n",
       "      <td>182</td>\n",
       "      <td>160.0</td>\n",
       "      <td>1139</td>\n",
       "      <td>4</td>\n",
       "      <td>0</td>\n",
       "      <td>18</td>\n",
       "    </tr>\n",
       "  </tbody>\n",
       "</table>\n",
       "<p>97682 rows × 9 columns</p>\n",
       "</div>"
      ],
      "text/plain": [
       "       mkt_carrier  origin  dest  crs_elapsed_time  air_time  distance  month  \\\n",
       "0                2      74   145                59      31.0        83     11   \n",
       "1                2     249    95                70      34.0       175     12   \n",
       "2                7     349   316               120     100.0       727     10   \n",
       "3                3      22   363                71      43.0       250      6   \n",
       "4                6     118   127               186     137.0      1065     11   \n",
       "...            ...     ...   ...               ...       ...       ...    ...   \n",
       "97677            8     191   166               177     131.0      1222     12   \n",
       "97678            2     293   253               141      99.0       646      6   \n",
       "97679            3     146   328               105      84.0       463     12   \n",
       "97680            7     268   217               195     170.0      1444      3   \n",
       "97681            8     215   190               182     160.0      1139      4   \n",
       "\n",
       "       weekday  dep_hour  \n",
       "0            2        16  \n",
       "1            3        17  \n",
       "2            3         9  \n",
       "3            0        14  \n",
       "4            2        17  \n",
       "...        ...       ...  \n",
       "97677        6        18  \n",
       "97678        5        15  \n",
       "97679        0        17  \n",
       "97680        0        14  \n",
       "97681        0        18  \n",
       "\n",
       "[97682 rows x 9 columns]"
      ]
     },
     "execution_count": 9,
     "metadata": {},
     "output_type": "execute_result"
    }
   ],
   "source": [
    "X"
   ]
  },
  {
   "cell_type": "code",
   "execution_count": 10,
   "metadata": {},
   "outputs": [],
   "source": [
    "scaler = StandardScaler()\n",
    "scaled_df = scaler.fit_transform(X)"
   ]
  },
  {
   "cell_type": "code",
   "execution_count": 11,
   "metadata": {},
   "outputs": [],
   "source": [
    "X_test, X_train, y_test, y_train = train_test_split(scaled_df, y, test_size=0.30, random_state=42)"
   ]
  },
  {
   "cell_type": "code",
   "execution_count": 13,
   "metadata": {},
   "outputs": [
    {
     "data": {
      "text/plain": [
       "RandomForestRegressor(max_depth=12)"
      ]
     },
     "execution_count": 13,
     "metadata": {},
     "output_type": "execute_result"
    }
   ],
   "source": [
    "#Create a Gaussian Classifier\n",
    "clf=RandomForestRegressor(n_estimators=100, max_depth=12)\n",
    "\n",
    "#Train the model using the training sets y_pred=clf.predict(X_test)\n",
    "clf.fit(X_train,y_train)"
   ]
  },
  {
   "cell_type": "code",
   "execution_count": 18,
   "metadata": {},
   "outputs": [],
   "source": [
    "training_preds = clf.predict(X_train)\n",
    "y_pred = clf.predict(df1.values)\n",
    "\n",
    "#training_accuracy = accuracy_score(y_train, training_preds)\n",
    "#val_accuracy = accuracy_score(y_test, y_pred)\n",
    "\n",
    "#print(\"Training Accuracy: {:.4}%\".format(training_accuracy * 100))\n",
    "#print(\"Validation accuracy: {:.4}%\".format(val_accuracy * 100))"
   ]
  },
  {
   "cell_type": "code",
   "execution_count": 17,
   "metadata": {},
   "outputs": [
    {
     "name": "stdout",
     "output_type": "stream",
     "text": [
      "Mean squared error: 1259.77\n",
      "Coefficient of determination: 0.11\n"
     ]
    }
   ],
   "source": [
    "# The coefficients\n",
    "#print('Coefficients: \\n', clf.coef_)\n",
    "# The mean squared error\n",
    "print('Mean squared error: %.2f'\n",
    "      % mean_squared_error(y_test, y_pred))\n",
    "# The coefficient of determination: 1 is perfect prediction\n",
    "print('Coefficient of determination: %.2f'\n",
    "      % r2_score(y_test, y_pred))"
   ]
  },
  {
   "cell_type": "code",
   "execution_count": null,
   "metadata": {},
   "outputs": [],
   "source": [
    "y_pred.shape"
   ]
  },
  {
   "cell_type": "code",
   "execution_count": 19,
   "metadata": {},
   "outputs": [
    {
     "data": {
      "text/plain": [
       "array([22.75477747, 22.13444252, 51.08486519, ..., 50.20819852,\n",
       "       50.20819852, 50.20819852])"
      ]
     },
     "execution_count": 19,
     "metadata": {},
     "output_type": "execute_result"
    }
   ],
   "source": [
    "y_pred"
   ]
  },
  {
   "cell_type": "code",
   "execution_count": null,
   "metadata": {},
   "outputs": [],
   "source": [
    "y_test"
   ]
  },
  {
   "cell_type": "code",
   "execution_count": 20,
   "metadata": {},
   "outputs": [],
   "source": [
    "pred = pd.DataFrame(y_pred)"
   ]
  },
  {
   "cell_type": "code",
   "execution_count": 21,
   "metadata": {},
   "outputs": [
    {
     "data": {
      "text/html": [
       "<div>\n",
       "<style scoped>\n",
       "    .dataframe tbody tr th:only-of-type {\n",
       "        vertical-align: middle;\n",
       "    }\n",
       "\n",
       "    .dataframe tbody tr th {\n",
       "        vertical-align: top;\n",
       "    }\n",
       "\n",
       "    .dataframe thead th {\n",
       "        text-align: right;\n",
       "    }\n",
       "</style>\n",
       "<table border=\"1\" class=\"dataframe\">\n",
       "  <thead>\n",
       "    <tr style=\"text-align: right;\">\n",
       "      <th></th>\n",
       "      <th>0</th>\n",
       "    </tr>\n",
       "  </thead>\n",
       "  <tbody>\n",
       "    <tr>\n",
       "      <th>0</th>\n",
       "      <td>22.754777</td>\n",
       "    </tr>\n",
       "    <tr>\n",
       "      <th>1</th>\n",
       "      <td>22.134443</td>\n",
       "    </tr>\n",
       "    <tr>\n",
       "      <th>2</th>\n",
       "      <td>51.084865</td>\n",
       "    </tr>\n",
       "    <tr>\n",
       "      <th>3</th>\n",
       "      <td>51.084865</td>\n",
       "    </tr>\n",
       "    <tr>\n",
       "      <th>4</th>\n",
       "      <td>51.084865</td>\n",
       "    </tr>\n",
       "    <tr>\n",
       "      <th>...</th>\n",
       "      <td>...</td>\n",
       "    </tr>\n",
       "    <tr>\n",
       "      <th>150618</th>\n",
       "      <td>50.208199</td>\n",
       "    </tr>\n",
       "    <tr>\n",
       "      <th>150619</th>\n",
       "      <td>50.208199</td>\n",
       "    </tr>\n",
       "    <tr>\n",
       "      <th>150620</th>\n",
       "      <td>50.208199</td>\n",
       "    </tr>\n",
       "    <tr>\n",
       "      <th>150621</th>\n",
       "      <td>50.208199</td>\n",
       "    </tr>\n",
       "    <tr>\n",
       "      <th>150622</th>\n",
       "      <td>50.208199</td>\n",
       "    </tr>\n",
       "  </tbody>\n",
       "</table>\n",
       "<p>150623 rows × 1 columns</p>\n",
       "</div>"
      ],
      "text/plain": [
       "                0\n",
       "0       22.754777\n",
       "1       22.134443\n",
       "2       51.084865\n",
       "3       51.084865\n",
       "4       51.084865\n",
       "...           ...\n",
       "150618  50.208199\n",
       "150619  50.208199\n",
       "150620  50.208199\n",
       "150621  50.208199\n",
       "150622  50.208199\n",
       "\n",
       "[150623 rows x 1 columns]"
      ]
     },
     "execution_count": 21,
     "metadata": {},
     "output_type": "execute_result"
    }
   ],
   "source": [
    "pred"
   ]
  },
  {
   "cell_type": "code",
   "execution_count": 22,
   "metadata": {},
   "outputs": [],
   "source": [
    "pred.to_csv(r'prediction.csv')"
   ]
  },
  {
   "cell_type": "markdown",
   "metadata": {},
   "source": [
    "### Hyperparameter tuning"
   ]
  },
  {
   "cell_type": "code",
   "execution_count": null,
   "metadata": {},
   "outputs": [],
   "source": [
    "from sklearn.model_selection import RandomizedSearchCV\n",
    "# Number of trees in random forest\n",
    "n_estimators = [int(x) for x in np.linspace(start = 100, stop = 1000, num = 10)]\n",
    "# Number of features to consider at every split\n",
    "max_features = ['auto', 'sqrt']\n",
    "# Maximum number of levels in tree\n",
    "max_depth = [int(x) for x in np.linspace(10, 50, num = 11)]\n",
    "max_depth.append(None)\n",
    "# Minimum number of samples required to split a node\n",
    "min_samples_split = [2, 5, 10]\n",
    "# Minimum number of samples required at each leaf node\n",
    "min_samples_leaf = [1, 2, 4]\n",
    "# Method of selecting samples for training each tree\n",
    "bootstrap = [True, False]\n",
    "# Create the random grid\n",
    "random_grid = {'n_estimators': n_estimators,\n",
    "               'max_features': max_features,\n",
    "               'max_depth': max_depth,\n",
    "               'min_samples_split': min_samples_split,\n",
    "               'min_samples_leaf': min_samples_leaf,\n",
    "               'bootstrap': bootstrap}\n",
    "print(random_grid)"
   ]
  },
  {
   "cell_type": "code",
   "execution_count": null,
   "metadata": {},
   "outputs": [],
   "source": [
    "# Use the random grid to search for best hyperparameters\n",
    "# First create the base model to tune\n",
    "rf = RandomForestRegressor()\n",
    "# Random search of parameters, using 3 fold cross validation, \n",
    "# search across 100 different combinations, and use all available cores\n",
    "rf_random = RandomizedSearchCV(estimator = rf, param_distributions = random_grid, n_iter = 100, cv = 3, verbose=2, random_state=42)\n",
    "# Fit the random search model\n",
    "rf_random.fit(X_train, y_train)"
   ]
  },
  {
   "cell_type": "code",
   "execution_count": null,
   "metadata": {},
   "outputs": [],
   "source": [
    "y_pred = rf_random.predict(X_test)"
   ]
  },
  {
   "cell_type": "code",
   "execution_count": null,
   "metadata": {},
   "outputs": [],
   "source": [
    "rmse = np.sqrt(mean_squared_error(y_test,y_pred))\n",
    "r2 = r2_score(y_test,y_pred)\n",
    "\n",
    "print('rmse: ',rmse)\n",
    "print('r2_score:', r2)"
   ]
  }
 ],
 "metadata": {
  "kernelspec": {
   "display_name": "Python 3",
   "language": "python",
   "name": "python3"
  },
  "language_info": {
   "codemirror_mode": {
    "name": "ipython",
    "version": 3
   },
   "file_extension": ".py",
   "mimetype": "text/x-python",
   "name": "python",
   "nbconvert_exporter": "python",
   "pygments_lexer": "ipython3",
   "version": "3.8.5"
  }
 },
 "nbformat": 4,
 "nbformat_minor": 4
}
